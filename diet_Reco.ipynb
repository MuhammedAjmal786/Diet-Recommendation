{
 "cells": [
  {
   "cell_type": "markdown",
   "metadata": {},
   "source": [
    "# Libraries"
   ]
  },
  {
   "cell_type": "code",
   "execution_count": 2,
   "metadata": {},
   "outputs": [],
   "source": [
    "import numpy as np\n",
    "import pandas as pd\n",
    "from sklearn.metrics.pairwise import cosine_similarity\n",
    "import re\n",
    "import string"
   ]
  },
  {
   "cell_type": "markdown",
   "metadata": {},
   "source": [
    "# Load Dataset"
   ]
  },
  {
   "cell_type": "code",
   "execution_count": 3,
   "metadata": {},
   "outputs": [
    {
     "data": {
      "text/html": [
       "<div>\n",
       "<style scoped>\n",
       "    .dataframe tbody tr th:only-of-type {\n",
       "        vertical-align: middle;\n",
       "    }\n",
       "\n",
       "    .dataframe tbody tr th {\n",
       "        vertical-align: top;\n",
       "    }\n",
       "\n",
       "    .dataframe thead th {\n",
       "        text-align: right;\n",
       "    }\n",
       "</style>\n",
       "<table border=\"1\" class=\"dataframe\">\n",
       "  <thead>\n",
       "    <tr style=\"text-align: right;\">\n",
       "      <th></th>\n",
       "      <th>RecipeId</th>\n",
       "      <th>Name</th>\n",
       "      <th>AuthorId</th>\n",
       "      <th>AuthorName</th>\n",
       "      <th>CookTime</th>\n",
       "      <th>PrepTime</th>\n",
       "      <th>TotalTime</th>\n",
       "      <th>DatePublished</th>\n",
       "      <th>Description</th>\n",
       "      <th>Images</th>\n",
       "      <th>...</th>\n",
       "      <th>SaturatedFatContent</th>\n",
       "      <th>CholesterolContent</th>\n",
       "      <th>SodiumContent</th>\n",
       "      <th>CarbohydrateContent</th>\n",
       "      <th>FiberContent</th>\n",
       "      <th>SugarContent</th>\n",
       "      <th>ProteinContent</th>\n",
       "      <th>RecipeServings</th>\n",
       "      <th>RecipeYield</th>\n",
       "      <th>RecipeInstructions</th>\n",
       "    </tr>\n",
       "  </thead>\n",
       "  <tbody>\n",
       "    <tr>\n",
       "      <th>0</th>\n",
       "      <td>38</td>\n",
       "      <td>Low-Fat Berry Blue Frozen Dessert</td>\n",
       "      <td>1533</td>\n",
       "      <td>Dancer</td>\n",
       "      <td>PT24H</td>\n",
       "      <td>PT45M</td>\n",
       "      <td>PT24H45M</td>\n",
       "      <td>1999-08-09T21:46:00Z</td>\n",
       "      <td>Make and share this Low-Fat Berry Blue Frozen ...</td>\n",
       "      <td>c(\"https://img.sndimg.com/food/image/upload/w_...</td>\n",
       "      <td>...</td>\n",
       "      <td>1.3</td>\n",
       "      <td>8.0</td>\n",
       "      <td>29.8</td>\n",
       "      <td>37.1</td>\n",
       "      <td>3.6</td>\n",
       "      <td>30.2</td>\n",
       "      <td>3.2</td>\n",
       "      <td>4.0</td>\n",
       "      <td>NaN</td>\n",
       "      <td>c(\"Toss 2 cups berries with sugar.\", \"Let stan...</td>\n",
       "    </tr>\n",
       "    <tr>\n",
       "      <th>1</th>\n",
       "      <td>39</td>\n",
       "      <td>Biryani</td>\n",
       "      <td>1567</td>\n",
       "      <td>elly9812</td>\n",
       "      <td>PT25M</td>\n",
       "      <td>PT4H</td>\n",
       "      <td>PT4H25M</td>\n",
       "      <td>1999-08-29T13:12:00Z</td>\n",
       "      <td>Make and share this Biryani recipe from Food.com.</td>\n",
       "      <td>c(\"https://img.sndimg.com/food/image/upload/w_...</td>\n",
       "      <td>...</td>\n",
       "      <td>16.6</td>\n",
       "      <td>372.8</td>\n",
       "      <td>368.4</td>\n",
       "      <td>84.4</td>\n",
       "      <td>9.0</td>\n",
       "      <td>20.4</td>\n",
       "      <td>63.4</td>\n",
       "      <td>6.0</td>\n",
       "      <td>NaN</td>\n",
       "      <td>c(\"Soak saffron in warm milk for 5 minutes and...</td>\n",
       "    </tr>\n",
       "    <tr>\n",
       "      <th>2</th>\n",
       "      <td>40</td>\n",
       "      <td>Best Lemonade</td>\n",
       "      <td>1566</td>\n",
       "      <td>Stephen Little</td>\n",
       "      <td>PT5M</td>\n",
       "      <td>PT30M</td>\n",
       "      <td>PT35M</td>\n",
       "      <td>1999-09-05T19:52:00Z</td>\n",
       "      <td>This is from one of my  first Good House Keepi...</td>\n",
       "      <td>c(\"https://img.sndimg.com/food/image/upload/w_...</td>\n",
       "      <td>...</td>\n",
       "      <td>0.0</td>\n",
       "      <td>0.0</td>\n",
       "      <td>1.8</td>\n",
       "      <td>81.5</td>\n",
       "      <td>0.4</td>\n",
       "      <td>77.2</td>\n",
       "      <td>0.3</td>\n",
       "      <td>4.0</td>\n",
       "      <td>NaN</td>\n",
       "      <td>c(\"Into a 1 quart Jar with tight fitting lid, ...</td>\n",
       "    </tr>\n",
       "    <tr>\n",
       "      <th>3</th>\n",
       "      <td>41</td>\n",
       "      <td>Carina's Tofu-Vegetable Kebabs</td>\n",
       "      <td>1586</td>\n",
       "      <td>Cyclopz</td>\n",
       "      <td>PT20M</td>\n",
       "      <td>PT24H</td>\n",
       "      <td>PT24H20M</td>\n",
       "      <td>1999-09-03T14:54:00Z</td>\n",
       "      <td>This dish is best prepared a day in advance to...</td>\n",
       "      <td>c(\"https://img.sndimg.com/food/image/upload/w_...</td>\n",
       "      <td>...</td>\n",
       "      <td>3.8</td>\n",
       "      <td>0.0</td>\n",
       "      <td>1558.6</td>\n",
       "      <td>64.2</td>\n",
       "      <td>17.3</td>\n",
       "      <td>32.1</td>\n",
       "      <td>29.3</td>\n",
       "      <td>2.0</td>\n",
       "      <td>4 kebabs</td>\n",
       "      <td>c(\"Drain the tofu, carefully squeezing out exc...</td>\n",
       "    </tr>\n",
       "    <tr>\n",
       "      <th>4</th>\n",
       "      <td>42</td>\n",
       "      <td>Cabbage Soup</td>\n",
       "      <td>1538</td>\n",
       "      <td>Duckie067</td>\n",
       "      <td>PT30M</td>\n",
       "      <td>PT20M</td>\n",
       "      <td>PT50M</td>\n",
       "      <td>1999-09-19T06:19:00Z</td>\n",
       "      <td>Make and share this Cabbage Soup recipe from F...</td>\n",
       "      <td>\"https://img.sndimg.com/food/image/upload/w_55...</td>\n",
       "      <td>...</td>\n",
       "      <td>0.1</td>\n",
       "      <td>0.0</td>\n",
       "      <td>959.3</td>\n",
       "      <td>25.1</td>\n",
       "      <td>4.8</td>\n",
       "      <td>17.7</td>\n",
       "      <td>4.3</td>\n",
       "      <td>4.0</td>\n",
       "      <td>NaN</td>\n",
       "      <td>c(\"Mix everything together and bring to a boil...</td>\n",
       "    </tr>\n",
       "    <tr>\n",
       "      <th>...</th>\n",
       "      <td>...</td>\n",
       "      <td>...</td>\n",
       "      <td>...</td>\n",
       "      <td>...</td>\n",
       "      <td>...</td>\n",
       "      <td>...</td>\n",
       "      <td>...</td>\n",
       "      <td>...</td>\n",
       "      <td>...</td>\n",
       "      <td>...</td>\n",
       "      <td>...</td>\n",
       "      <td>...</td>\n",
       "      <td>...</td>\n",
       "      <td>...</td>\n",
       "      <td>...</td>\n",
       "      <td>...</td>\n",
       "      <td>...</td>\n",
       "      <td>...</td>\n",
       "      <td>...</td>\n",
       "      <td>...</td>\n",
       "      <td>...</td>\n",
       "    </tr>\n",
       "    <tr>\n",
       "      <th>522512</th>\n",
       "      <td>541379</td>\n",
       "      <td>Meg's Fresh Ginger Gingerbread</td>\n",
       "      <td>2002090414</td>\n",
       "      <td>rdsxc</td>\n",
       "      <td>PT35M</td>\n",
       "      <td>PT1H</td>\n",
       "      <td>PT1H35M</td>\n",
       "      <td>2020-12-22T15:27:00Z</td>\n",
       "      <td>Make and share this Meg's Fresh Ginger Gingerb...</td>\n",
       "      <td>character(0)</td>\n",
       "      <td>...</td>\n",
       "      <td>7.6</td>\n",
       "      <td>54.4</td>\n",
       "      <td>278.2</td>\n",
       "      <td>48.5</td>\n",
       "      <td>0.8</td>\n",
       "      <td>22.8</td>\n",
       "      <td>3.9</td>\n",
       "      <td>8.0</td>\n",
       "      <td>1 8x8 cake pan</td>\n",
       "      <td>c(\"Preheat oven to 350&amp;deg;F Grease an 8x8 cak...</td>\n",
       "    </tr>\n",
       "    <tr>\n",
       "      <th>522513</th>\n",
       "      <td>541380</td>\n",
       "      <td>Roast Prime Rib au Poivre with Mixed Peppercorns</td>\n",
       "      <td>211566</td>\n",
       "      <td>Denver cooks</td>\n",
       "      <td>PT3H</td>\n",
       "      <td>PT30M</td>\n",
       "      <td>PT3H30M</td>\n",
       "      <td>2020-12-22T15:32:00Z</td>\n",
       "      <td>White, black, green, and pink peppercorns add ...</td>\n",
       "      <td>\"https://img.sndimg.com/food/image/upload/w_55...</td>\n",
       "      <td>...</td>\n",
       "      <td>71.4</td>\n",
       "      <td>433.8</td>\n",
       "      <td>766.3</td>\n",
       "      <td>3.2</td>\n",
       "      <td>0.7</td>\n",
       "      <td>0.1</td>\n",
       "      <td>117.0</td>\n",
       "      <td>8.0</td>\n",
       "      <td>1 Roast</td>\n",
       "      <td>c(\"Position rack in center of oven and preheat...</td>\n",
       "    </tr>\n",
       "    <tr>\n",
       "      <th>522514</th>\n",
       "      <td>541381</td>\n",
       "      <td>Kirshwasser Ice Cream</td>\n",
       "      <td>2001131545</td>\n",
       "      <td>Jonathan F.</td>\n",
       "      <td>PT3H</td>\n",
       "      <td>PT1H</td>\n",
       "      <td>PT4H</td>\n",
       "      <td>2020-12-22T15:33:00Z</td>\n",
       "      <td>Make and share this Kirshwasser Ice Cream reci...</td>\n",
       "      <td>character(0)</td>\n",
       "      <td>...</td>\n",
       "      <td>72.6</td>\n",
       "      <td>470.9</td>\n",
       "      <td>192.5</td>\n",
       "      <td>33.9</td>\n",
       "      <td>0.0</td>\n",
       "      <td>17.3</td>\n",
       "      <td>12.8</td>\n",
       "      <td>6.0</td>\n",
       "      <td>NaN</td>\n",
       "      <td>c(\"heat half and half and heavy cream to a sim...</td>\n",
       "    </tr>\n",
       "    <tr>\n",
       "      <th>522515</th>\n",
       "      <td>541382</td>\n",
       "      <td>Quick &amp; Easy Asian Cucumber Salmon Rolls</td>\n",
       "      <td>2001004241</td>\n",
       "      <td>CLUBFOODY</td>\n",
       "      <td>NaN</td>\n",
       "      <td>PT15M</td>\n",
       "      <td>PT15M</td>\n",
       "      <td>2020-12-22T22:11:00Z</td>\n",
       "      <td>Extremely quick and easy to make, these are gr...</td>\n",
       "      <td>\"https://img.sndimg.com/food/image/upload/w_55...</td>\n",
       "      <td>...</td>\n",
       "      <td>0.1</td>\n",
       "      <td>2.9</td>\n",
       "      <td>100.5</td>\n",
       "      <td>0.3</td>\n",
       "      <td>0.0</td>\n",
       "      <td>0.1</td>\n",
       "      <td>2.4</td>\n",
       "      <td>NaN</td>\n",
       "      <td>20 rolls</td>\n",
       "      <td>c(\"In a small bowl, combine mayo and wasabi pa...</td>\n",
       "    </tr>\n",
       "    <tr>\n",
       "      <th>522516</th>\n",
       "      <td>541383</td>\n",
       "      <td>Spicy Baked Scotch Eggs</td>\n",
       "      <td>188099</td>\n",
       "      <td>Chef LauraMD</td>\n",
       "      <td>PT25M</td>\n",
       "      <td>PT15M</td>\n",
       "      <td>PT40M</td>\n",
       "      <td>2020-12-22T22:12:00Z</td>\n",
       "      <td>Great way to have hard boiled eggs and crispy,...</td>\n",
       "      <td>character(0)</td>\n",
       "      <td>...</td>\n",
       "      <td>22.2</td>\n",
       "      <td>1769.7</td>\n",
       "      <td>1318.6</td>\n",
       "      <td>29.7</td>\n",
       "      <td>1.3</td>\n",
       "      <td>6.7</td>\n",
       "      <td>76.4</td>\n",
       "      <td>NaN</td>\n",
       "      <td>NaN</td>\n",
       "      <td>c(\"Mix sausage, panko, egg yolk and Wocestersh...</td>\n",
       "    </tr>\n",
       "  </tbody>\n",
       "</table>\n",
       "<p>522517 rows × 28 columns</p>\n",
       "</div>"
      ],
      "text/plain": [
       "        RecipeId                                              Name  \\\n",
       "0             38                 Low-Fat Berry Blue Frozen Dessert   \n",
       "1             39                                           Biryani   \n",
       "2             40                                     Best Lemonade   \n",
       "3             41                    Carina's Tofu-Vegetable Kebabs   \n",
       "4             42                                      Cabbage Soup   \n",
       "...          ...                                               ...   \n",
       "522512    541379                    Meg's Fresh Ginger Gingerbread   \n",
       "522513    541380  Roast Prime Rib au Poivre with Mixed Peppercorns   \n",
       "522514    541381                             Kirshwasser Ice Cream   \n",
       "522515    541382          Quick & Easy Asian Cucumber Salmon Rolls   \n",
       "522516    541383                           Spicy Baked Scotch Eggs   \n",
       "\n",
       "          AuthorId      AuthorName CookTime PrepTime TotalTime  \\\n",
       "0             1533          Dancer    PT24H    PT45M  PT24H45M   \n",
       "1             1567        elly9812    PT25M     PT4H   PT4H25M   \n",
       "2             1566  Stephen Little     PT5M    PT30M     PT35M   \n",
       "3             1586         Cyclopz    PT20M    PT24H  PT24H20M   \n",
       "4             1538       Duckie067    PT30M    PT20M     PT50M   \n",
       "...            ...             ...      ...      ...       ...   \n",
       "522512  2002090414           rdsxc    PT35M     PT1H   PT1H35M   \n",
       "522513      211566    Denver cooks     PT3H    PT30M   PT3H30M   \n",
       "522514  2001131545     Jonathan F.     PT3H     PT1H      PT4H   \n",
       "522515  2001004241       CLUBFOODY      NaN    PT15M     PT15M   \n",
       "522516      188099    Chef LauraMD    PT25M    PT15M     PT40M   \n",
       "\n",
       "               DatePublished  \\\n",
       "0       1999-08-09T21:46:00Z   \n",
       "1       1999-08-29T13:12:00Z   \n",
       "2       1999-09-05T19:52:00Z   \n",
       "3       1999-09-03T14:54:00Z   \n",
       "4       1999-09-19T06:19:00Z   \n",
       "...                      ...   \n",
       "522512  2020-12-22T15:27:00Z   \n",
       "522513  2020-12-22T15:32:00Z   \n",
       "522514  2020-12-22T15:33:00Z   \n",
       "522515  2020-12-22T22:11:00Z   \n",
       "522516  2020-12-22T22:12:00Z   \n",
       "\n",
       "                                              Description  \\\n",
       "0       Make and share this Low-Fat Berry Blue Frozen ...   \n",
       "1       Make and share this Biryani recipe from Food.com.   \n",
       "2       This is from one of my  first Good House Keepi...   \n",
       "3       This dish is best prepared a day in advance to...   \n",
       "4       Make and share this Cabbage Soup recipe from F...   \n",
       "...                                                   ...   \n",
       "522512  Make and share this Meg's Fresh Ginger Gingerb...   \n",
       "522513  White, black, green, and pink peppercorns add ...   \n",
       "522514  Make and share this Kirshwasser Ice Cream reci...   \n",
       "522515  Extremely quick and easy to make, these are gr...   \n",
       "522516  Great way to have hard boiled eggs and crispy,...   \n",
       "\n",
       "                                                   Images  ...  \\\n",
       "0       c(\"https://img.sndimg.com/food/image/upload/w_...  ...   \n",
       "1       c(\"https://img.sndimg.com/food/image/upload/w_...  ...   \n",
       "2       c(\"https://img.sndimg.com/food/image/upload/w_...  ...   \n",
       "3       c(\"https://img.sndimg.com/food/image/upload/w_...  ...   \n",
       "4       \"https://img.sndimg.com/food/image/upload/w_55...  ...   \n",
       "...                                                   ...  ...   \n",
       "522512                                       character(0)  ...   \n",
       "522513  \"https://img.sndimg.com/food/image/upload/w_55...  ...   \n",
       "522514                                       character(0)  ...   \n",
       "522515  \"https://img.sndimg.com/food/image/upload/w_55...  ...   \n",
       "522516                                       character(0)  ...   \n",
       "\n",
       "       SaturatedFatContent CholesterolContent SodiumContent  \\\n",
       "0                      1.3                8.0          29.8   \n",
       "1                     16.6              372.8         368.4   \n",
       "2                      0.0                0.0           1.8   \n",
       "3                      3.8                0.0        1558.6   \n",
       "4                      0.1                0.0         959.3   \n",
       "...                    ...                ...           ...   \n",
       "522512                 7.6               54.4         278.2   \n",
       "522513                71.4              433.8         766.3   \n",
       "522514                72.6              470.9         192.5   \n",
       "522515                 0.1                2.9         100.5   \n",
       "522516                22.2             1769.7        1318.6   \n",
       "\n",
       "       CarbohydrateContent  FiberContent  SugarContent  ProteinContent  \\\n",
       "0                     37.1           3.6          30.2             3.2   \n",
       "1                     84.4           9.0          20.4            63.4   \n",
       "2                     81.5           0.4          77.2             0.3   \n",
       "3                     64.2          17.3          32.1            29.3   \n",
       "4                     25.1           4.8          17.7             4.3   \n",
       "...                    ...           ...           ...             ...   \n",
       "522512                48.5           0.8          22.8             3.9   \n",
       "522513                 3.2           0.7           0.1           117.0   \n",
       "522514                33.9           0.0          17.3            12.8   \n",
       "522515                 0.3           0.0           0.1             2.4   \n",
       "522516                29.7           1.3           6.7            76.4   \n",
       "\n",
       "        RecipeServings     RecipeYield  \\\n",
       "0                  4.0             NaN   \n",
       "1                  6.0             NaN   \n",
       "2                  4.0             NaN   \n",
       "3                  2.0        4 kebabs   \n",
       "4                  4.0             NaN   \n",
       "...                ...             ...   \n",
       "522512             8.0  1 8x8 cake pan   \n",
       "522513             8.0         1 Roast   \n",
       "522514             6.0             NaN   \n",
       "522515             NaN        20 rolls   \n",
       "522516             NaN             NaN   \n",
       "\n",
       "                                       RecipeInstructions  \n",
       "0       c(\"Toss 2 cups berries with sugar.\", \"Let stan...  \n",
       "1       c(\"Soak saffron in warm milk for 5 minutes and...  \n",
       "2       c(\"Into a 1 quart Jar with tight fitting lid, ...  \n",
       "3       c(\"Drain the tofu, carefully squeezing out exc...  \n",
       "4       c(\"Mix everything together and bring to a boil...  \n",
       "...                                                   ...  \n",
       "522512  c(\"Preheat oven to 350&deg;F Grease an 8x8 cak...  \n",
       "522513  c(\"Position rack in center of oven and preheat...  \n",
       "522514  c(\"heat half and half and heavy cream to a sim...  \n",
       "522515  c(\"In a small bowl, combine mayo and wasabi pa...  \n",
       "522516  c(\"Mix sausage, panko, egg yolk and Wocestersh...  \n",
       "\n",
       "[522517 rows x 28 columns]"
      ]
     },
     "execution_count": 3,
     "metadata": {},
     "output_type": "execute_result"
    }
   ],
   "source": [
    "df=pd.read_csv('recipes.csv')\n",
    "df"
   ]
  },
  {
   "cell_type": "code",
   "execution_count": 4,
   "metadata": {},
   "outputs": [
    {
     "data": {
      "text/plain": [
       "Index(['RecipeId', 'Name', 'AuthorId', 'AuthorName', 'CookTime', 'PrepTime',\n",
       "       'TotalTime', 'DatePublished', 'Description', 'Images', 'RecipeCategory',\n",
       "       'Keywords', 'RecipeIngredientQuantities', 'RecipeIngredientParts',\n",
       "       'AggregatedRating', 'ReviewCount', 'Calories', 'FatContent',\n",
       "       'SaturatedFatContent', 'CholesterolContent', 'SodiumContent',\n",
       "       'CarbohydrateContent', 'FiberContent', 'SugarContent', 'ProteinContent',\n",
       "       'RecipeServings', 'RecipeYield', 'RecipeInstructions'],\n",
       "      dtype='object')"
      ]
     },
     "execution_count": 4,
     "metadata": {},
     "output_type": "execute_result"
    }
   ],
   "source": [
    "df.columns"
   ]
  },
  {
   "cell_type": "markdown",
   "metadata": {},
   "source": [
    "Select required columns"
   ]
  },
  {
   "cell_type": "code",
   "execution_count": 6,
   "metadata": {},
   "outputs": [],
   "source": [
    "df=df[['Name','Calories', 'FatContent', 'SaturatedFatContent','CholesterolContent', 'SodiumContent', 'CarbohydrateContent','FiberContent', 'SugarContent', 'ProteinContent','RecipeInstructions']]"
   ]
  },
  {
   "cell_type": "code",
   "execution_count": 7,
   "metadata": {},
   "outputs": [
    {
     "data": {
      "text/plain": [
       "(522517, 11)"
      ]
     },
     "execution_count": 7,
     "metadata": {},
     "output_type": "execute_result"
    }
   ],
   "source": [
    "df.shape"
   ]
  },
  {
   "cell_type": "code",
   "execution_count": 8,
   "metadata": {},
   "outputs": [],
   "source": [
    "# rows: 522517   ,   columns: 11"
   ]
  },
  {
   "cell_type": "code",
   "execution_count": 9,
   "metadata": {},
   "outputs": [
    {
     "name": "stdout",
     "output_type": "stream",
     "text": [
      "<class 'pandas.core.frame.DataFrame'>\n",
      "RangeIndex: 522517 entries, 0 to 522516\n",
      "Data columns (total 11 columns):\n",
      " #   Column               Non-Null Count   Dtype  \n",
      "---  ------               --------------   -----  \n",
      " 0   Name                 522517 non-null  object \n",
      " 1   Calories             522517 non-null  float64\n",
      " 2   FatContent           522517 non-null  float64\n",
      " 3   SaturatedFatContent  522517 non-null  float64\n",
      " 4   CholesterolContent   522517 non-null  float64\n",
      " 5   SodiumContent        522517 non-null  float64\n",
      " 6   CarbohydrateContent  522517 non-null  float64\n",
      " 7   FiberContent         522517 non-null  float64\n",
      " 8   SugarContent         522517 non-null  float64\n",
      " 9   ProteinContent       522517 non-null  float64\n",
      " 10  RecipeInstructions   522517 non-null  object \n",
      "dtypes: float64(9), object(2)\n",
      "memory usage: 43.9+ MB\n"
     ]
    }
   ],
   "source": [
    "df.info()"
   ]
  },
  {
   "cell_type": "code",
   "execution_count": 10,
   "metadata": {},
   "outputs": [],
   "source": [
    "# No Null values"
   ]
  },
  {
   "cell_type": "markdown",
   "metadata": {},
   "source": [
    "# Save Dataset"
   ]
  },
  {
   "cell_type": "code",
   "execution_count": 11,
   "metadata": {},
   "outputs": [],
   "source": [
    "df.to_csv('food.csv', index=False)"
   ]
  },
  {
   "cell_type": "markdown",
   "metadata": {},
   "source": [
    "# Data Preprocessing"
   ]
  },
  {
   "cell_type": "code",
   "execution_count": 12,
   "metadata": {},
   "outputs": [
    {
     "name": "stderr",
     "output_type": "stream",
     "text": [
      "C:\\Users\\Pc\\AppData\\Local\\Temp\\ipykernel_14452\\393621297.py:8: SettingWithCopyWarning: \n",
      "A value is trying to be set on a copy of a slice from a DataFrame.\n",
      "Try using .loc[row_indexer,col_indexer] = value instead\n",
      "\n",
      "See the caveats in the documentation: https://pandas.pydata.org/pandas-docs/stable/user_guide/indexing.html#returning-a-view-versus-a-copy\n",
      "  df['RecipeInstructions'] = df['RecipeInstructions'].apply(clean_instructions)\n"
     ]
    }
   ],
   "source": [
    "# Creating function for clean column RecipeInstructions\n",
    "def clean_instructions(text):\n",
    "    text = text.lstrip('c(\"').rstrip('\",)') # Remove the 'c' at the start and quotes\n",
    "    text = text.translate(str.maketrans(\"\", \"\", string.punctuation))# Remove any remaining special characters if needed\n",
    "    return text\n",
    "\n",
    "# Appling function\n",
    "df['RecipeInstructions'] = df['RecipeInstructions'].apply(clean_instructions)"
   ]
  },
  {
   "cell_type": "markdown",
   "metadata": {},
   "source": [
    "# Functions for Calculations"
   ]
  },
  {
   "cell_type": "markdown",
   "metadata": {},
   "source": [
    "Calculate BMR using Mifflin-St Jeor Formula"
   ]
  },
  {
   "cell_type": "code",
   "execution_count": 13,
   "metadata": {},
   "outputs": [],
   "source": [
    "def calculate_bmr(weight, height, age, sex):\n",
    "    if sex == \"male\":\n",
    "        return (9.99 * weight) + (6.25 * height) - (4.92 * age) + 5\n",
    "    else: # female\n",
    "        return (9.99 * weight) + (6.25 * height) - (4.92 * age) - 161"
   ]
  },
  {
   "cell_type": "markdown",
   "metadata": {},
   "source": [
    "Calculate Total Daily Energy Expenditure based on activity levels"
   ]
  },
  {
   "cell_type": "code",
   "execution_count": 14,
   "metadata": {},
   "outputs": [],
   "source": [
    "def calculate_tdee(bmr, activity_level):\n",
    "    activity_lvls = {\n",
    "        \"sedentary\": 1.2,\n",
    "        \"lightly_active\": 1.375,\n",
    "        \"moderate\": 1.55,\n",
    "        \"very_active\": 1.725,\n",
    "        \"extra_active\": 1.9\n",
    "    }\n",
    "    return bmr * activity_lvls.get(activity_level, 1.2) # tdee\n"
   ]
  },
  {
   "cell_type": "markdown",
   "metadata": {},
   "source": [
    "Calculate Calories Based on Goal"
   ]
  },
  {
   "cell_type": "code",
   "execution_count": 15,
   "metadata": {},
   "outputs": [],
   "source": [
    "def adjust_calories(tdee, goal):\n",
    "    if goal == \"weight_loss\":\n",
    "        return tdee - 500\n",
    "    elif goal == \"weight_gain\":\n",
    "        return tdee + 500\n",
    "    else:  # Maintenance\n",
    "        return tdee"
   ]
  },
  {
   "cell_type": "markdown",
   "metadata": {},
   "source": [
    "Macronutrient Distribution Ratios"
   ]
  },
  {
   "cell_type": "code",
   "execution_count": 16,
   "metadata": {},
   "outputs": [],
   "source": [
    "def calculate_macros(calories, goal):\n",
    "    if goal == \"weight_loss\":\n",
    "        protein_ratio, fat_ratio, carb_ratio = 0.3, 0.3, 0.4\n",
    "    elif goal == \"weight_gain\":\n",
    "        protein_ratio, fat_ratio, carb_ratio = 0.25, 0.3, 0.45\n",
    "    else:  #  maintenance\n",
    "        protein_ratio, fat_ratio, carb_ratio = 0.3, 0.3, 0.4\n",
    "    \n",
    "    protein = (calories * protein_ratio) / 4\n",
    "    fat = (calories * fat_ratio) / 9\n",
    "    carbs = (calories * carb_ratio) / 4\n",
    "    return protein, fat, carbs"
   ]
  },
  {
   "cell_type": "markdown",
   "metadata": {},
   "source": [
    "# User inputs"
   ]
  },
  {
   "cell_type": "code",
   "execution_count": 17,
   "metadata": {},
   "outputs": [],
   "source": [
    "age=int(input('Age: '))\n",
    "sex=input('Gender: ')\n",
    "weight=int(input('Weight: '))\n",
    "height=int(input('Height: '))\n",
    "activity_level=input('Activity Level(sedentary,lightly_active,moderate,very_active,extra_active): ')\n",
    "goal=input('Goal(weight_loss,weight_gain,maintenance): ')\n",
    "diet_preference=input('diet preference(vegetarian,non-vegetarian): ')\n",
    "allergies=input('Allergies: ')\n",
    "n=int(input('Number of recipies: '))"
   ]
  },
  {
   "cell_type": "code",
   "execution_count": 18,
   "metadata": {},
   "outputs": [],
   "source": [
    "user_profile = {}\n",
    "user_profile[\"age\"] =age\n",
    "user_profile[\"sex\"] =sex\n",
    "user_profile[\"weight\"] =weight\n",
    "user_profile[\"height\"] =height\n",
    "user_profile[\"activity_level\"] =activity_level\n",
    "user_profile[\"goal\"] =goal\n",
    "user_profile[\"diet_preference\"] =diet_preference\n",
    "user_profile[\"allergies\"] =[allergies]"
   ]
  },
  {
   "cell_type": "markdown",
   "metadata": {},
   "source": [
    "# Compute User Nutritional Needs"
   ]
  },
  {
   "cell_type": "code",
   "execution_count": 19,
   "metadata": {},
   "outputs": [],
   "source": [
    "bmr = calculate_bmr(user_profile[\"weight\"], user_profile[\"height\"], user_profile[\"age\"], user_profile[\"sex\"])\n",
    "tdee = calculate_tdee(bmr, user_profile[\"activity_level\"])\n",
    "target_calories = adjust_calories(tdee, user_profile[\"goal\"])\n",
    "target_protein, target_fat, target_carbs = calculate_macros(target_calories, user_profile[\"goal\"])"
   ]
  },
  {
   "cell_type": "markdown",
   "metadata": {},
   "source": [
    "# Filter Recipes Based on Diet Preferences"
   ]
  },
  {
   "cell_type": "code",
   "execution_count": 20,
   "metadata": {},
   "outputs": [],
   "source": [
    "filtered_diet = df.copy()\n",
    "if user_profile[\"diet_preference\"] in [\"vegetarian\", \"vegan\"]:\n",
    "    filtered_diet = filtered_diet[filtered_diet[\"RecipeInstructions\"].str.contains(user_profile[\"diet_preference\"], case=False, na=False)]\n",
    "\n",
    "# for allergen in user_profile[\"allergies\"]:\n",
    "#     filtered_diet = filtered_diet[~filtered_diet[\"RecipeInstructions\"].str.contains(allergen, case=False, na=False)]"
   ]
  },
  {
   "cell_type": "markdown",
   "metadata": {},
   "source": [
    "# Content-Based Recommendation Using Cosine Similarity"
   ]
  },
  {
   "cell_type": "code",
   "execution_count": 21,
   "metadata": {},
   "outputs": [],
   "source": [
    "def recommend_meals(user_calories, user_fat, user_carbs, user_protein, top_n):\n",
    "    # User profile vector includes all 9 features, and we fill missing features with zeros (or use other defaults)\n",
    "    user_profile_vector = np.array([[user_calories, user_fat, user_carbs, user_protein, 0, 0, 0, 0, 0]])\n",
    "    \n",
    "    # Compute Cosine Similarity\n",
    "    similarities = cosine_similarity(user_profile_vector, filtered_diet.iloc[:, 1:10].values)  # Adjusting for 9 features\n",
    "    \n",
    "    # Rank meals based on similarity\n",
    "    filtered_diet[\"Similarity\"] = similarities[0]\n",
    "    top_recommendations = filtered_diet.sort_values(by=\"Similarity\", ascending=False).head(top_n)\n",
    "    \n",
    "    # Return recommendations in the desired format\n",
    "    recommendations = []\n",
    "    for _, row in top_recommendations.iterrows():\n",
    "        recommendation = {\n",
    "            \"Name\": row[\"Name\"],\n",
    "            \"Calories\": row[\"Calories\"],\n",
    "            \"ProteinContent\": row[\"ProteinContent\"],\n",
    "            \"FatContent\": row[\"FatContent\"],\n",
    "            \"CarbohydrateContent\": row[\"CarbohydrateContent\"],\n",
    "            \"SodiumContent\": row[\"SodiumContent\"],\n",
    "            \"RecipeInstructions\": row[\"RecipeInstructions\"]\n",
    "        }\n",
    "        recommendations.append(recommendation)\n",
    "    \n",
    "    return recommendations"
   ]
  },
  {
   "cell_type": "markdown",
   "metadata": {},
   "source": [
    "# Get Recommendations"
   ]
  },
  {
   "cell_type": "code",
   "execution_count": 22,
   "metadata": {},
   "outputs": [],
   "source": [
    "recommendations = recommend_meals(target_calories, target_fat, target_carbs, target_protein,n)"
   ]
  },
  {
   "cell_type": "code",
   "execution_count": 23,
   "metadata": {},
   "outputs": [
    {
     "name": "stdout",
     "output_type": "stream",
     "text": [
      "Name: Sauteed Greens\n",
      "Calories: 61.9\n",
      "ProteinContent: 0.1\n",
      "FatContent: 6.8\n",
      "CarbohydrateContent: 0.5\n",
      "SodiumContent: 0.4\n",
      "RecipeInstructions: Pour 12 inch of water into a large pot and bring to a boil Add greens cover and steam until wilted about a minute Drain and chop In a large skillet heat the oil and add garlic Sauté over medium heat 30 seconds Sauté greens approximately five minutes Season with salt and tamari soy sauce Serve immediately Variations Instead of sautéing with oil and garlic steam the greens and flavour with a 12 teaspoon of fresh ginger juice lemon juice or umeboshi vinegar Ginger juice can be made by grating ginger and squeezing the juice out of the pulp Garnish with carrot slivers sesame seeds and enoki mushrooms \n",
      "Source Vegetarian Tastes of Toronto p 28\n",
      "\n",
      "--------------------------------------------------\n",
      "\n",
      "Name: The Best Vegetarian French Onion Soup\n",
      "Calories: 197.3\n",
      "ProteinContent: 0.8\n",
      "FatContent: 6.8\n",
      "CarbohydrateContent: 11.3\n",
      "SodiumContent: 7.2\n",
      "RecipeInstructions: Heat olive oil in a deep pan over medium heat Add onions and sugar and let cook for at least 15 minutes until onions begin to caramelize Add entire  bottle of red wine and simmer until wine is reduced to about half about 15 minutes Meanwhile in a large stockpot bring 1 L of water to a boil and add the 2 cubes of vegetarian beef flavoured stock Add onions and wine to the stock in the pot and simmer gently for another 15 or 20 minutes Pour soup into onion soup bowls top generously with sliced swiss cheese and set under the broiler for 2  minutes or until cheese is light brown and bubbly\n",
      "\n",
      "\n",
      "--------------------------------------------------\n",
      "\n",
      "Name: Rose Elliot's Thai Flavoured Mushroom Stroganoff (Veggie)\n",
      "Calories: 714.1\n",
      "ProteinContent: 14.2\n",
      "FatContent: 45.4\n",
      "CarbohydrateContent: 71.5\n",
      "SodiumContent: 38.2\n",
      "RecipeInstructions: Start with rice Put into pan with tumeric and pint of water Cook for 15 mins or until water has been absorbed by rice Fluff with fork and keep warm covered until required Heat the rapeseed oil in a large saucepan add mushrooms stir and cover and cook for 5 minutes Add lemongrass lime ginger Keep over heat for a few seconds Blend the cornflour to a thin paste with a little of the coconut milk aand set aside Add the remaining coconut milk to the mushrooms simmer for 5 mins then pour in cornflour paste stir for a minute or so until it thickens \n",
      "Season with salt and pepper and remove the lemon grass stalks Serve with the rice This recipe is taken from Rose Elliots Vegetarian Supercook book httpwwwamazoncomVegetarianSupercookRoseElliotdp0600615677\n",
      "\n",
      "--------------------------------------------------\n",
      "\n"
     ]
    }
   ],
   "source": [
    "for rec in recommendations:\n",
    "    print(f\"Name: {rec['Name']}\")\n",
    "    print(f\"Calories: {rec['Calories']}\")\n",
    "    print(f\"ProteinContent: {rec['ProteinContent']}\")\n",
    "    print(f\"FatContent: {rec['FatContent']}\")\n",
    "    print(f\"CarbohydrateContent: {rec['CarbohydrateContent']}\")\n",
    "    print(f\"SodiumContent: {rec['SodiumContent']}\")\n",
    "    print(f\"RecipeInstructions: {rec['RecipeInstructions']}\")\n",
    "    print(\"\\n\" + \"-\"*50 + \"\\n\")"
   ]
  }
 ],
 "metadata": {
  "kernelspec": {
   "display_name": "Python 3",
   "language": "python",
   "name": "python3"
  },
  "language_info": {
   "codemirror_mode": {
    "name": "ipython",
    "version": 3
   },
   "file_extension": ".py",
   "mimetype": "text/x-python",
   "name": "python",
   "nbconvert_exporter": "python",
   "pygments_lexer": "ipython3",
   "version": "3.12.8"
  }
 },
 "nbformat": 4,
 "nbformat_minor": 2
}
